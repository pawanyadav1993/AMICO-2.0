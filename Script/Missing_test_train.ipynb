{
 "cells": [
  {
   "cell_type": "code",
   "execution_count": 1,
   "metadata": {},
   "outputs": [
    {
     "name": "stdout",
     "output_type": "stream",
     "text": [
      "Number of rows in metadata = 121545\n",
      "Number of rows in features = 121545\n"
     ]
    }
   ],
   "source": [
    "import numpy as np\n",
    "import pandas as pd\n",
    "import pandasql as pdsql\n",
    "from datetime import datetime\n",
    "import matplotlib.pyplot as plt\n",
    "from collections import Counter\n",
    "from sklearn.ensemble import *\n",
    "from sklearn.metrics import accuracy_score, roc_curve, auc\n",
    "\n",
    "\n",
    "\n",
    "pysql = lambda q: pdsql.sqldf(q, globals())\n",
    "\n",
    "features = pd.read_csv('data/amico-features-export.csv.gz', compression='gzip')\n",
    "features.sort_values(by=['dump_id'],inplace=True)\n",
    "features.set_index(features['dump_id'],inplace=True)\n",
    "\n",
    "metadata = pd.read_csv('data/amico-export.csv.gz', compression='gzip')\n",
    "metadata.sort_values(by=['dump_id'],inplace=True)\n",
    "metadata['date'] = pd.to_datetime(metadata['date'])\n",
    "metadata = metadata[metadata['dump_id'].isin(features['dump_id'])]\n",
    "metadata.set_index(metadata['dump_id'],inplace=True)\n",
    "\n",
    "print (\"Number of rows in metadata =\", len(metadata))\n",
    "print (\"Number of rows in features =\", len(features))"
   ]
  },
  {
   "cell_type": "code",
   "execution_count": 2,
   "metadata": {},
   "outputs": [
    {
     "name": "stdout",
     "output_type": "stream",
     "text": [
      "Number of rows in data after join = 121545\n"
     ]
    }
   ],
   "source": [
    "data = features.join(metadata[['dump_id','date','md5','host','type','max_tavs','max_avs','score']], how='inner', rsuffix='_d')\n",
    "data.sort_values(by=['dump_id'],inplace=True)\n",
    "\n",
    "print (\"Number of rows in data after join =\", len(data))"
   ]
  },
  {
   "cell_type": "code",
   "execution_count": 3,
   "metadata": {},
   "outputs": [],
   "source": [
    "dataset = data.copy()"
   ]
  },
  {
   "cell_type": "code",
   "execution_count": 19,
   "metadata": {},
   "outputs": [],
   "source": [
    "trainining_end_date = '2017-04-01'\n",
    "\n",
    "training_data = dataset[dataset['date']<trainining_end_date]\n",
    "test_data = dataset[dataset['date']>=trainining_end_date]"
   ]
  },
  {
   "cell_type": "code",
   "execution_count": 20,
   "metadata": {},
   "outputs": [],
   "source": [
    "def label_downloads(avs_count, avs_count1, threshold):\n",
    "    avs_count = list(avs_count)\n",
    "    avs_count1 = list(avs_count1)\n",
    "    labels = ['benign']*len(avs_count)\n",
    "    for i in range(len(avs_count)):\n",
    "        if avs_count[i] >= threshold : \n",
    "            labels[i] = 'malware'\n",
    "        elif ((avs_count1[i] > 0) and (avs_count[i] < 2)) :\n",
    "            labels[i] = 'unknown'\n",
    "    return labels"
   ]
  },
  {
   "cell_type": "code",
   "execution_count": 21,
   "metadata": {},
   "outputs": [
    {
     "name": "stdout",
     "output_type": "stream",
     "text": [
      "Number of training data rows = 44305\n",
      "Missing AV labels for training data =  4157\n",
      "Number of remaining rows after removing missing labels = 40148\n",
      "Number of remaining row without unknown (final training set) = 36451\n",
      "Training labels count: Counter({'benign': 34443, 'unknown': 3697, 'malware': 2008})\n",
      "\n",
      "\n",
      "Number of test data rows = 77240\n",
      "Missing AV labels for test data =  4916\n",
      "Number of remaining rows after removig missing labels = 72324\n",
      "Number of remaining rows without unknown (final test set) = 58248\n",
      "Test labels count: Counter({'benign': 55705, 'unknown': 14076, 'malware': 2543})\n"
     ]
    }
   ],
   "source": [
    "#Training data information\n",
    "print (\"Number of training data rows =\", len(training_data))\n",
    "missing_train = training_data.max_avs.isnull().sum()\n",
    "print(\"Missing AV labels for training data = \",missing_train)\n",
    "\n",
    "training_data = training_data.loc[~training_data['max_avs'].isnull()]\n",
    "print (\"Number of remaining rows after removing missing labels =\", len(training_data))\n",
    "\n",
    "threshold = 2\n",
    "avs_count = training_data['max_tavs']\n",
    "avs_count1 = training_data['max_avs']\n",
    "training_data['avs5'] = label_downloads(avs_count, avs_count1, threshold)\n",
    "\n",
    "training_data1 = training_data.loc[training_data['avs5'] != 'unknown']\n",
    "print (\"Number of remaining row without unknown (final training set) =\", len(training_data1))\n",
    "\n",
    "labels_count = Counter(list(training_data['avs5']))\n",
    "print (\"Training labels count:\", labels_count)\n",
    "\n",
    "\n",
    "#Test data information\n",
    "print (\"\\n\\nNumber of test data rows =\", len(test_data))\n",
    "missing_test = test_data.max_avs.isnull().sum()\n",
    "print(\"Missing AV labels for test data = \",missing_test)\n",
    "\n",
    "test_data = test_data.loc[~test_data['max_avs'].isnull()]\n",
    "print (\"Number of remaining rows after removing missing labels =\", len(test_data))\n",
    "\n",
    "threshold = 2\n",
    "avs_count = test_data['max_tavs']\n",
    "avs_count1 = test_data['max_avs']\n",
    "test_data['avs5'] = label_downloads(avs_count, avs_count1, threshold)\n",
    "\n",
    "test_data1 = test_data.loc[test_data['avs5'] != 'unknown']\n",
    "print (\"Number of remaining rows without unknown (final test set) =\", len(test_data1))\n",
    "\n",
    "labels_count = Counter(list(test_data['avs5']))\n",
    "print (\"Test labels count:\", labels_count)"
   ]
  }
 ],
 "metadata": {
  "kernelspec": {
   "display_name": "Python 3",
   "language": "python",
   "name": "python3"
  },
  "language_info": {
   "codemirror_mode": {
    "name": "ipython",
    "version": 3
   },
   "file_extension": ".py",
   "mimetype": "text/x-python",
   "name": "python",
   "nbconvert_exporter": "python",
   "pygments_lexer": "ipython3",
   "version": "3.5.2"
  }
 },
 "nbformat": 4,
 "nbformat_minor": 2
}
