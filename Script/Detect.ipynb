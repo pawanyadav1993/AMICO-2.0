{
 "cells": [
  {
   "cell_type": "code",
   "execution_count": 1,
   "metadata": {},
   "outputs": [],
   "source": [
    "import pandas as pd\n",
    "import pandasql as pdsql\n",
    "from datetime import datetime\n",
    "import matplotlib\n",
    "import matplotlib.pyplot as plt\n",
    "\n",
    "pysql = lambda q: pdsql.sqldf(q, globals())\n",
    "\n",
    "data = pd.read_csv('data/amico-export.csv.gz', compression='gzip')\n",
    "data['date'] = pd.to_datetime(data['date'])\n",
    "data['vt_query'] = pd.to_datetime(data['vt_query'])"
   ]
  },
  {
   "cell_type": "code",
   "execution_count": 11,
   "metadata": {},
   "outputs": [
    {
     "data": {
      "text/plain": [
       "0         1.0\n",
       "1         0.0\n",
       "2         0.0\n",
       "3         6.0\n",
       "4         0.0\n",
       "5         0.0\n",
       "6         0.0\n",
       "7         6.0\n",
       "8         0.0\n",
       "9         0.0\n",
       "10        0.0\n",
       "11        0.0\n",
       "12        6.0\n",
       "13        0.0\n",
       "14        0.0\n",
       "15        6.0\n",
       "16        0.0\n",
       "17        0.0\n",
       "18        0.0\n",
       "19        0.0\n",
       "20        2.0\n",
       "21        6.0\n",
       "22        0.0\n",
       "23        0.0\n",
       "24        0.0\n",
       "25        2.0\n",
       "26        0.0\n",
       "27        6.0\n",
       "28        0.0\n",
       "29        0.0\n",
       "         ... \n",
       "248434    0.0\n",
       "248435    0.0\n",
       "248436    1.0\n",
       "248437    4.0\n",
       "248438    4.0\n",
       "248439    0.0\n",
       "248440    1.0\n",
       "248441    0.0\n",
       "248442    0.0\n",
       "248443    2.0\n",
       "248444    0.0\n",
       "248445    2.0\n",
       "248446    4.0\n",
       "248447    2.0\n",
       "248448    4.0\n",
       "248449    0.0\n",
       "248450    0.0\n",
       "248451    0.0\n",
       "248452    0.0\n",
       "248453    0.0\n",
       "248454    0.0\n",
       "248455    3.0\n",
       "248456    1.0\n",
       "248457    0.0\n",
       "248458    0.0\n",
       "248459    0.0\n",
       "248460    0.0\n",
       "248461    4.0\n",
       "248462    4.0\n",
       "248463    0.0\n",
       "Name: max_avs, Length: 248464, dtype: float64"
      ]
     },
     "execution_count": 11,
     "metadata": {},
     "output_type": "execute_result"
    }
   ],
   "source": [
    "sql_query = \"\"\"\n",
    "    SELECT md5, host, score, max_tavs, max_avs, score\n",
    "    FROM data\n",
    "    WHERE max_avs IS NOT NULL\n",
    "    ORDER BY date;\n",
    "    \"\"\"\n",
    "scores = pysql(sql_query)\n",
    "#scores.to_csv(\"data/detect.csv\")\n",
    "scores \n",
    "\n",
    "#threshold = 2\n",
    "avs_count = scores['max_tavs']\n",
    "avs_count1 = scores['max_avs']\n",
    "avs_count1\n",
    "\n",
    "#sql_query1 = \"\"\"\n",
    "#    SELECT *\n",
    "#    FROM avs_count\n",
    "#    WHERE max_tavs >=2;\n",
    "#    \"\"\"\n",
    "#scores1 = pysql(sql_query1)\n",
    "#scores1"
   ]
  },
  {
   "cell_type": "code",
   "execution_count": null,
   "metadata": {},
   "outputs": [],
   "source": []
  }
 ],
 "metadata": {
  "kernelspec": {
   "display_name": "Python 3",
   "language": "python",
   "name": "python3"
  },
  "language_info": {
   "codemirror_mode": {
    "name": "ipython",
    "version": 3
   },
   "file_extension": ".py",
   "mimetype": "text/x-python",
   "name": "python",
   "nbconvert_exporter": "python",
   "pygments_lexer": "ipython3",
   "version": "3.5.2"
  }
 },
 "nbformat": 4,
 "nbformat_minor": 2
}
