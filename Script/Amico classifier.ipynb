{
 "cells": [
  {
   "cell_type": "code",
   "execution_count": 1,
   "metadata": {},
   "outputs": [
    {
     "name": "stdout",
     "output_type": "stream",
     "text": [
      "Number of rows in metadata = 121545\n",
      "Number of rows in features = 121545\n"
     ]
    }
   ],
   "source": [
    "import numpy as np\n",
    "import pandas as pd\n",
    "import pandasql as pdsql\n",
    "from datetime import datetime\n",
    "\n",
    "pysql = lambda q: pdsql.sqldf(q, globals())\n",
    "\n",
    "features = pd.read_csv('data/amico-features-export.csv.gz', compression='gzip')\n",
    "features.sort_values(by=['dump_id'],inplace=True)\n",
    "features.set_index(features['dump_id'],inplace=True)\n",
    "\n",
    "metadata = pd.read_csv('data/amico-export.csv.gz', compression='gzip')\n",
    "metadata.sort_values(by=['dump_id'],inplace=True)\n",
    "metadata['date'] = pd.to_datetime(metadata['date'])\n",
    "metadata = metadata[metadata['dump_id'].isin(features['dump_id'])]\n",
    "metadata.set_index(metadata['dump_id'],inplace=True)\n",
    "\n",
    "print (\"Number of rows in metadata =\", len(metadata))\n",
    "print (\"Number of rows in features =\", len(features))\n"
   ]
  },
  {
   "cell_type": "code",
   "execution_count": 2,
   "metadata": {},
   "outputs": [
    {
     "name": "stdout",
     "output_type": "stream",
     "text": [
      "Number of rows in metadata = 121545\n"
     ]
    }
   ],
   "source": [
    "# metadata = metadata.loc[metadata['type'] == 'DMG']\n",
    "print (\"Number of rows in metadata =\", len(metadata))"
   ]
  },
  {
   "cell_type": "code",
   "execution_count": 3,
   "metadata": {},
   "outputs": [
    {
     "name": "stdout",
     "output_type": "stream",
     "text": [
      "Number of rows in data after join = 121545\n"
     ]
    }
   ],
   "source": [
    "data = features.join(metadata[['dump_id','date','md5','host','type','max_tavs','max_avs']], how='inner', rsuffix='_d')\n",
    "data.sort_values(by=['dump_id'],inplace=True)\n",
    "\n",
    "print (\"Number of rows in data after join =\", len(data))"
   ]
  },
  {
   "cell_type": "code",
   "execution_count": 4,
   "metadata": {},
   "outputs": [],
   "source": [
    "from collections import Counter\n",
    "\n",
    "def filter_count(count_dict, th=0):\n",
    "    new_dict = dict()\n",
    "    for k in count_dict:\n",
    "        if count_dict[k] > th:\n",
    "            new_dict[k] = count_dict[k]\n",
    "    return new_dict\n",
    "\n",
    "md5_count = Counter(data['md5'])\n",
    "host_count = Counter(data['host'])\n",
    "\n",
    "md5_count_filtered = dict()\n",
    "host_count_filtered = dict()\n",
    "\n",
    "# md5_count_filtered = filter_count(md5_count,100)\n",
    "# host_count_filtered = filter_count(host_count,1000)"
   ]
  },
  {
   "cell_type": "code",
   "execution_count": 5,
   "metadata": {},
   "outputs": [
    {
     "name": "stdout",
     "output_type": "stream",
     "text": [
      "Number of rows = 121545\n",
      "Number of remaining rows = 121545\n",
      "Number of remaining rows = 121545\n",
      "Number of remaining rows = 112472\n"
     ]
    }
   ],
   "source": [
    "# filtering out popular md5s and hosts\n",
    "dataset = data.copy()\n",
    "print (\"Number of rows =\", len(dataset))\n",
    "dataset = dataset.loc[~dataset['md5'].isin(md5_count_filtered.keys())]\n",
    "print (\"Number of remaining rows =\", len(dataset))\n",
    "dataset = dataset.loc[~dataset['host'].isin(host_count_filtered.keys())]\n",
    "print (\"Number of remaining rows =\", len(dataset))\n",
    "dataset = dataset.loc[~dataset['max_tavs'].isnull()]\n",
    "print (\"Number of remaining rows =\", len(dataset))\n"
   ]
  },
  {
   "cell_type": "code",
   "execution_count": 6,
   "metadata": {},
   "outputs": [
    {
     "name": "stdout",
     "output_type": "stream",
     "text": [
      "Number of remaining rows = 94699\n",
      "Dataset: instances = 94699   features = 79\n",
      "dump_id                                      int64\n",
      "raw_dump_num_av_labels                     float64\n",
      "raw_dump_trusted_av_labels                 float64\n",
      "vt_month_shelf                             float64\n",
      "corrupt                                     object\n",
      "host_malware_downloads                     float64\n",
      "host_suspicious_downloads                  float64\n",
      "host_benign_downloads                      float64\n",
      "host_total_downloads                       float64\n",
      "host_malware_ratio                         float64\n",
      "host_suspicious_ratio                      float64\n",
      "host_benign_ratio                          float64\n",
      "host_avg_av_labels                         float64\n",
      "host_avg_trusted_labels                    float64\n",
      "host_unknown_hashes                        float64\n",
      "host_total_hashes                          float64\n",
      "host_unknown_hash_ratio                    float64\n",
      "twold_malware_downloads                    float64\n",
      "twold_suspicious_downloads                 float64\n",
      "twold_benign_downloads                     float64\n",
      "twold_total_downloads                      float64\n",
      "twold_malware_ratio                        float64\n",
      "twold_suspicious_ratio                     float64\n",
      "twold_benign_ratio                         float64\n",
      "twold_avg_av_labels                        float64\n",
      "twold_avg_trusted_labels                   float64\n",
      "twold_unknown_hashes                       float64\n",
      "twold_total_hashes                         float64\n",
      "twold_unknown_hash_ratio                   float64\n",
      "server_ip_malware_downloads                float64\n",
      "                                         ...      \n",
      "bgp_avg_trusted_labels                     float64\n",
      "bgp_unknown_hashes                         float64\n",
      "bgp_total_hashes                           float64\n",
      "bgp_unknown_hash_ratio                     float64\n",
      "hash_life_time                             float64\n",
      "num_dumps_with_same_hash                   float64\n",
      "hash_daily_dump_rate_per_client            float64\n",
      "estimated_clients_with_same_hash           float64\n",
      "referer_exists                             float64\n",
      "host_name_exists                           float64\n",
      "extension_class                             object\n",
      "url_length                                 float64\n",
      "directory_depth                            float64\n",
      "sha1                                        object\n",
      "host                                        object\n",
      "url_malware_downloads                      float64\n",
      "url_total_downloads                        float64\n",
      "url_distinct_sha1s                         float64\n",
      "url_struct                                 float64\n",
      "url_struct_malware_downloads               float64\n",
      "url_struct_total_downloads                 float64\n",
      "url_struct_distinct_sha1s                  float64\n",
      "dump_id_d                                    int64\n",
      "date                                datetime64[ns]\n",
      "md5                                         object\n",
      "host_d                                      object\n",
      "type                                        object\n",
      "max_tavs                                   float64\n",
      "max_avs                                    float64\n",
      "avs5                                        object\n",
      "Length: 79, dtype: object\n"
     ]
    }
   ],
   "source": [
    "def label_downloads(avs_count, avs_count1, threshold):\n",
    "    avs_count = list(avs_count)\n",
    "    avs_count1 = list(avs_count1)\n",
    "    labels = ['benign']*len(avs_count)\n",
    "    for i in range(len(avs_count)):\n",
    "        if avs_count[i] >= threshold : \n",
    "            labels[i] = 'malware'\n",
    "        elif ((avs_count1[i] > 0) and (avs_count[i] < 2)) :\n",
    "            labels[i] = 'unknown'\n",
    "    return labels\n",
    "\n",
    "threshold = 2\n",
    "avs_count = dataset['max_tavs']\n",
    "avs_count1 = dataset['max_avs']\n",
    "dataset['avs5'] = label_downloads(avs_count, avs_count1, threshold)\n",
    "\n",
    "dataset = dataset.loc[dataset['avs5'] != 'unknown']\n",
    "print (\"Number of remaining rows =\", len(dataset))\n",
    "\n",
    "print (\"Dataset: instances =\",dataset.shape[0], \"  features =\",dataset.shape[1])\n",
    "\n",
    "print (dataset.dtypes)"
   ]
  },
  {
   "cell_type": "code",
   "execution_count": 7,
   "metadata": {},
   "outputs": [
    {
     "name": "stdout",
     "output_type": "stream",
     "text": [
      "Labels count: Counter({'benign': 90148, 'malware': 4551})\n",
      "Type count: Counter({'EXE': 36846, 'JAR': 31615, 'APK': 16071, 'DMG': 10167})\n"
     ]
    }
   ],
   "source": [
    "labels_count = Counter(list(dataset['avs5']))\n",
    "print (\"Labels count:\", labels_count)\n",
    "\n",
    "type_count = Counter(list(dataset['type']))\n",
    "print (\"Type count:\", type_count)"
   ]
  },
  {
   "cell_type": "code",
   "execution_count": 8,
   "metadata": {},
   "outputs": [
    {
     "name": "stdout",
     "output_type": "stream",
     "text": [
      "Dataset: instances = 94699   features = 87\n"
     ]
    }
   ],
   "source": [
    "# One-hot-encoding\n",
    "cfs = ['extension_class','type']\n",
    "for fn in cfs:\n",
    "    ohe_feat = pd.get_dummies(dataset[fn], prefix=fn)\n",
    "    dataset = dataset.drop([fn], axis=1)\n",
    "    dataset = pd.concat((dataset, ohe_feat), axis=1)\n",
    "\n",
    "print (\"Dataset: instances =\",dataset.shape[0], \"  features =\",dataset.shape[1])"
   ]
  },
  {
   "cell_type": "code",
   "execution_count": 9,
   "metadata": {},
   "outputs": [
    {
     "name": "stdout",
     "output_type": "stream",
     "text": [
      "Number of test data rows = 36451\n",
      "Number of training data rows = 58248\n",
      "Training labels count: Counter({'benign': 34443, 'malware': 2008})\n",
      "Test labels count: Counter({'benign': 55705, 'malware': 2543})\n"
     ]
    }
   ],
   "source": [
    "trainining_end_date = '2017-04-01'\n",
    "\n",
    "training_data = dataset[dataset['date']<trainining_end_date]\n",
    "test_data = dataset[dataset['date']>=trainining_end_date]\n",
    "\n",
    "print (\"Number of test data rows =\", len(training_data))\n",
    "print (\"Number of training data rows =\", len(test_data))\n",
    "\n",
    "labels_count = Counter(list(training_data['avs5']))\n",
    "print (\"Training labels count:\", labels_count)\n",
    "\n",
    "labels_count = Counter(list(test_data['avs5']))\n",
    "print (\"Test labels count:\", labels_count)\n"
   ]
  },
  {
   "cell_type": "code",
   "execution_count": 10,
   "metadata": {
    "scrolled": true
   },
   "outputs": [
    {
     "name": "stdout",
     "output_type": "stream",
     "text": [
      "dump_id                                  int64\n",
      "raw_dump_num_av_labels                 float64\n",
      "raw_dump_trusted_av_labels             float64\n",
      "vt_month_shelf                         float64\n",
      "corrupt                                 object\n",
      "host_malware_downloads                 float64\n",
      "host_suspicious_downloads              float64\n",
      "host_benign_downloads                  float64\n",
      "host_total_downloads                   float64\n",
      "host_malware_ratio                     float64\n",
      "host_suspicious_ratio                  float64\n",
      "host_benign_ratio                      float64\n",
      "host_avg_av_labels                     float64\n",
      "host_avg_trusted_labels                float64\n",
      "host_unknown_hashes                    float64\n",
      "host_total_hashes                      float64\n",
      "host_unknown_hash_ratio                float64\n",
      "twold_malware_downloads                float64\n",
      "twold_suspicious_downloads             float64\n",
      "twold_benign_downloads                 float64\n",
      "twold_total_downloads                  float64\n",
      "twold_malware_ratio                    float64\n",
      "twold_suspicious_ratio                 float64\n",
      "twold_benign_ratio                     float64\n",
      "twold_avg_av_labels                    float64\n",
      "twold_avg_trusted_labels               float64\n",
      "twold_unknown_hashes                   float64\n",
      "twold_total_hashes                     float64\n",
      "twold_unknown_hash_ratio               float64\n",
      "server_ip_malware_downloads            float64\n",
      "                                     ...      \n",
      "referer_exists                         float64\n",
      "host_name_exists                       float64\n",
      "url_length                             float64\n",
      "directory_depth                        float64\n",
      "sha1                                    object\n",
      "host                                    object\n",
      "url_malware_downloads                  float64\n",
      "url_total_downloads                    float64\n",
      "url_distinct_sha1s                     float64\n",
      "url_struct                             float64\n",
      "url_struct_malware_downloads           float64\n",
      "url_struct_total_downloads             float64\n",
      "url_struct_distinct_sha1s              float64\n",
      "dump_id_d                                int64\n",
      "date                            datetime64[ns]\n",
      "md5                                     object\n",
      "host_d                                  object\n",
      "max_tavs                               float64\n",
      "max_avs                                float64\n",
      "avs5                                    object\n",
      "extension_class_common_ext               uint8\n",
      "extension_class_common_fake              uint8\n",
      "extension_class_no_ext                   uint8\n",
      "extension_class_no_url                   uint8\n",
      "extension_class_other_ext                uint8\n",
      "extension_class_unknown_ext              uint8\n",
      "type_APK                                 uint8\n",
      "type_DMG                                 uint8\n",
      "type_EXE                                 uint8\n",
      "type_JAR                                 uint8\n",
      "Length: 87, dtype: object\n"
     ]
    }
   ],
   "source": [
    "print (dataset.dtypes)"
   ]
  },
  {
   "cell_type": "code",
   "execution_count": 71,
   "metadata": {},
   "outputs": [
    {
     "name": "stdout",
     "output_type": "stream",
     "text": [
      "Train: instances = 36451   features = 56\n",
      "Test:  instances = 58248   features = 56\n"
     ]
    }
   ],
   "source": [
    "train = training_data.copy()\n",
    "test = test_data.copy()\n",
    "\n",
    "train_Y = list(train['avs5'])\n",
    "test_Y  = list(test['avs5'])\n",
    "remove_cols = ['vt_month_shelf', 'raw_dump_trusted_av_labels', 'raw_dump_num_av_labels', 'dump_id','corrupt','sha1','host','url_struct','dump_id_d','date','md5','host_d','max_tavs','max_avs','avs5']\n",
    "remove_cols = remove_cols + ['type_APK','type_DMG','type_JAR','type_EXE']\n",
    "#remove_cols = remove_cols + ['extension_class_common_ext', 'extension_class_common_fake', 'extension_class_no_ext', 'extension_class_no_url','extension_class_other_ext','extension_class_unknown_ext']\n",
    "remove_cols = remove_cols + ['url_struct_malware_downloads','url_struct_total_downloads','url_struct_distinct_sha1s','server_ip_avg_av_labels','server_ip_avg_trusted_labels','hash_daily_dump_rate_per_client']\n",
    "remove_cols = remove_cols + ['server_ip_malware_ratio','server_ip_suspicious_ratio','server_ip_benign_ratio','server_ip_unknown_hash_ratio','host_unknown_hashes','host_total_hashes']\n",
    "\n",
    "\n",
    "for c in remove_cols:\n",
    "    del train[c]\n",
    "    del test[c]\n",
    "\n",
    "#all_cols = list(dataset.columns[0:])\n",
    "\n",
    "#remove_cols = ['host_malware_downloads','host_suspicious_downloads','host_malware_ratio','host_suspicious_ratio','twold_malware_ratio','twold_suspicious_ratio','server_ip_malware_ratio','server_ip_benign_ratio','bgp_unknown_hash_ratio','estimated_clients_with_same_hash','referer_exists','url_length','url_malware_downloads','directory_depth']\n",
    "\n",
    "#partial_cols = [x for x in all_cols if x not in remove_cols]\n",
    "\n",
    "#for c in partial_cols:\n",
    "#    del train[c]\n",
    "#    del test[c]\n",
    "\n",
    "print (\"Train: instances =\",train.shape[0], \"  features =\",train.shape[1])\n",
    "print (\"Test:  instances =\",test.shape[0], \"  features =\",test.shape[1]) \n"
   ]
  },
  {
   "cell_type": "code",
   "execution_count": 72,
   "metadata": {},
   "outputs": [],
   "source": [
    "# train[100:110]"
   ]
  },
  {
   "cell_type": "code",
   "execution_count": 73,
   "metadata": {},
   "outputs": [
    {
     "name": "stdout",
     "output_type": "stream",
     "text": [
      "[1.22368210e-01 8.05064933e-03 1.01264589e-02 2.07568126e-03\n",
      " 1.09104130e-01 1.65826583e-02 2.40004849e-02 6.08122582e-02\n",
      " 1.10964852e-01 1.71435177e-04 6.46222161e-02 9.14458251e-03\n",
      " 1.43565872e-02 1.06818953e-03 9.68994329e-02 4.66850795e-02\n",
      " 4.46357340e-02 1.39530435e-01 4.63264526e-02 2.25462165e-04\n",
      " 5.47673438e-04 2.07549331e-04 1.28751286e-03 6.95921653e-04\n",
      " 3.37277882e-04 6.41665742e-04 3.16449464e-04 4.44064306e-04\n",
      " 6.89637404e-04 1.02089112e-03 1.77902911e-03 1.11942285e-03\n",
      " 3.25982630e-03 5.09609484e-03 2.06283876e-03 1.15155402e-02\n",
      " 5.55177542e-03 6.16657602e-04 8.30200008e-04 7.00387506e-04\n",
      " 3.48238479e-04 4.78355169e-04 4.85515092e-04 8.16518843e-03\n",
      " 1.27332361e-04 1.24608744e-02 2.80636698e-03 3.39490360e-03\n",
      " 2.95717208e-04 3.35594054e-04 3.71441054e-04 6.15990606e-08\n",
      " 9.64155493e-04 2.63209365e-03 4.73100412e-04 1.89656180e-04]\n"
     ]
    }
   ],
   "source": [
    "from sklearn.ensemble import *\n",
    "\n",
    "# imputation of missing values by substituting -1 for compatibility with RF implementation\n",
    "train.fillna(-1,inplace=True)\n",
    "clf = RandomForestClassifier(n_estimators=100, random_state=12345)\n",
    "clf.fit(train, train_Y)\n",
    "print (clf.feature_importances_)"
   ]
  },
  {
   "cell_type": "code",
   "execution_count": 74,
   "metadata": {},
   "outputs": [
    {
     "name": "stdout",
     "output_type": "stream",
     "text": [
      "['vt_month_shelf', 'raw_dump_trusted_av_labels', 'raw_dump_num_av_labels', 'dump_id', 'corrupt', 'sha1', 'host', 'url_struct', 'dump_id_d', 'date', 'md5', 'host_d', 'max_tavs', 'max_avs', 'avs5', 'type_APK', 'type_DMG', 'type_JAR', 'type_EXE', 'url_struct_malware_downloads', 'url_struct_total_downloads', 'url_struct_distinct_sha1s', 'server_ip_avg_av_labels', 'server_ip_avg_trusted_labels', 'hash_daily_dump_rate_per_client', 'server_ip_malware_ratio', 'server_ip_suspicious_ratio', 'server_ip_benign_ratio', 'server_ip_unknown_hash_ratio', 'host_unknown_hashes', 'host_total_hashes']\n"
     ]
    }
   ],
   "source": [
    "from sklearn.metrics import accuracy_score, roc_curve, auc\n",
    "\n",
    "\n",
    "    \n",
    "\n",
    "# imputation of missing values by substituting -1 for compatibility with RF implementation\n",
    "test.fillna(-1,inplace=True)\n",
    "\n",
    "Y_hat = clf.predict(test)\n",
    "acc = accuracy_score(test_Y,Y_hat)\n",
    "\n",
    "scores = pd.DataFrame(clf.predict_proba(test))\n",
    "scores.columns = ['benign','malware']\n",
    "\n",
    "#print(len(scores['malware']))\n",
    "fpr, tpr, th = roc_curve(test_Y, scores['malware'], pos_label='malware')"
   ]
  },
  {
   "cell_type": "code",
   "execution_count": 75,
   "metadata": {},
   "outputs": [],
   "source": [
    "def compute_partial_auc(fpr, tpr, fpr_max):\n",
    "    partial_fpr = [fpr[i] for i in range(len(fpr)) if fpr[i] <= fpr_max]\n",
    "    partial_tpr = [tpr[i] for i in range(len(fpr)) if fpr[i] <= fpr_max]\n",
    "    partial_fpr = partial_fpr + [fpr_max]\n",
    "    partial_tpr = partial_tpr + [tpr[-1]]\n",
    "    partial_auc = (auc(partial_fpr, partial_tpr) / (fpr_max))\n",
    "    #print(partial_fpr)\n",
    "    return partial_auc"
   ]
  },
  {
   "cell_type": "code",
   "execution_count": 76,
   "metadata": {},
   "outputs": [
    {
     "data": {
      "image/png": "[encoded data removed]",
      "text/plain": [
       "<Figure size 432x288 with 1 Axes>"
      ]
     },
     "metadata": {},
     "output_type": "display_data"
    }
   ],
   "source": [
    "import matplotlib.pyplot as plt\n",
    "\n",
    "def plot_ROC(fpr, tpr, fpr_max=0.01, title='ROC curves'):\n",
    "    plt.figure()\n",
    "    lw = 3\n",
    "\n",
    "    plt.plot([0, 100], [100, 100], color='lightgray', lw=1, linestyle='--')\n",
    "    plt.plot([0, 100], [90, 90], color='lightgray', lw=1, linestyle='--')\n",
    "    plt.plot([0, 100], [80, 80], color='lightgray', lw=1, linestyle='--')\n",
    "    plt.plot([1.0, 1.0], [50, 105], color='lightgray', lw=1, linestyle='--')\n",
    "    plt.plot([0.5, 0.5], [50, 105], color='lightgray', lw=1, linestyle='--')\n",
    "    plt.plot([0.2, 0.2], [50, 105], color='lightgray', lw=1, linestyle='--')\n",
    "    plt.plot([0.1, 0.1], [50, 105], color='lightgray', lw=1, linestyle='--')\n",
    "\n",
    "    pauc = compute_partial_auc(fpr, tpr, fpr_max)\n",
    "    plt.plot(fpr*100, tpr*100, color='blue', lw=lw, label='AUC = %.2f, PAUC = %.4f' % (auc(fpr, tpr), pauc))\n",
    "\n",
    "    plt.xlim([0.0, fpr_max*100])\n",
    "    plt.ylim([50, 105])\n",
    "    plt.xlabel('False Positive (%)')\n",
    "    plt.ylabel('True Positives (%)')\n",
    "    plt.title(title)\n",
    "    plt.legend(loc=\"lower right\")\n",
    "    plt.savefig('data/no_type_feature.pdf')\n",
    "    #plt.savefig('data/all_features.pdf')\n",
    "\n",
    "    plt.show()\n",
    "   \n",
    "    \n",
    "    \n",
    "plot_ROC(fpr,tpr)"
   ]
  },
  {
   "cell_type": "code",
   "execution_count": null,
   "metadata": {},
   "outputs": [],
   "source": []
  }
 ],
 "metadata": {
  "kernelspec": {
   "display_name": "Python 3",
   "language": "python",
   "name": "python3"
  },
  "language_info": {
   "codemirror_mode": {
    "name": "ipython",
    "version": 3
   },
   "file_extension": ".py",
   "mimetype": "text/x-python",
   "name": "python",
   "nbconvert_exporter": "python",
   "pygments_lexer": "ipython3",
   "version": "3.7.1"
  }
 },
 "nbformat": 4,
 "nbformat_minor": 2
}
