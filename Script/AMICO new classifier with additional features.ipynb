{
 "cells": [
  {
   "cell_type": "code",
   "execution_count": 42,
   "metadata": {},
   "outputs": [
    {
     "name": "stdout",
     "output_type": "stream",
     "text": [
      "Number of rows in metadata = 121545\n",
      "Number of rows in features = 121545\n"
     ]
    }
   ],
   "source": [
    "import numpy as np\n",
    "import pandas as pd\n",
    "import pandasql as pdsql\n",
    "from datetime import datetime\n",
    "import matplotlib.pyplot as plt\n",
    "from collections import Counter\n",
    "from sklearn.ensemble import *\n",
    "from sklearn.metrics import accuracy_score, roc_curve, auc\n",
    "\n",
    "\n",
    "\n",
    "pysql = lambda q: pdsql.sqldf(q, globals())\n",
    "\n",
    "features = pd.read_csv('data/amico-features-export.csv.gz', compression='gzip')\n",
    "features.sort_values(by=['dump_id'],inplace=True)\n",
    "features.set_index(features['dump_id'],inplace=True)\n",
    "\n",
    "metadata = pd.read_csv('data/amico-export.csv.gz', compression='gzip')\n",
    "metadata.sort_values(by=['dump_id'],inplace=True)\n",
    "metadata['date'] = pd.to_datetime(metadata['date'])\n",
    "metadata = metadata[metadata['dump_id'].isin(features['dump_id'])]\n",
    "metadata.set_index(metadata['dump_id'],inplace=True)\n",
    "\n",
    "print (\"Number of rows in metadata =\", len(metadata))\n",
    "print (\"Number of rows in features =\", len(features))"
   ]
  },
  {
   "cell_type": "code",
   "execution_count": 43,
   "metadata": {},
   "outputs": [
    {
     "name": "stderr",
     "output_type": "stream",
     "text": [
      "C:\\Users\\Pawan\\Desktop\\major\\UGA\\Trial\\Test\\venv\\lib\\site-packages\\ipykernel_launcher.py:2: FutureWarning: 'dump_id' is both an index level and a column label.\n",
      "Defaulting to column, but this will raise an ambiguity error in a future version\n",
      "  \n"
     ]
    },
    {
     "name": "stdout",
     "output_type": "stream",
     "text": [
      "Number of rows in data after join = 121545\n"
     ]
    }
   ],
   "source": [
    "data = features.join(metadata[['dump_id','date','md5','host','type','max_tavs','max_avs','score']], how='inner', rsuffix='_d')\n",
    "data.sort_values(by=['dump_id'],inplace=True)\n",
    "\n",
    "print (\"Number of rows in data after join =\", len(data))"
   ]
  },
  {
   "cell_type": "code",
   "execution_count": 44,
   "metadata": {},
   "outputs": [
    {
     "name": "stdout",
     "output_type": "stream",
     "text": [
      "Number of remaining rows = 112472\n",
      "Number of remaining rows = 112361\n"
     ]
    }
   ],
   "source": [
    "dataset = data.copy()\n",
    "dataset = dataset.loc[~dataset['max_avs'].isnull()]\n",
    "print (\"Number of remaining rows =\", len(dataset))\n",
    "# Removing those values where RF is not giving score\n",
    "dataset = dataset.loc[~dataset['score'].isnull()]\n",
    "print (\"Number of remaining rows =\", len(dataset))"
   ]
  },
  {
   "cell_type": "code",
   "execution_count": 45,
   "metadata": {},
   "outputs": [
    {
     "name": "stdout",
     "output_type": "stream",
     "text": [
      "Number of remaining rows = 94626\n",
      "Dataset: instances = 94626   features = 80\n"
     ]
    }
   ],
   "source": [
    "def label_downloads(avs_count, avs_count1, threshold):\n",
    "    avs_count = list(avs_count)\n",
    "    avs_count1 = list(avs_count1)\n",
    "    labels = ['benign']*len(avs_count)\n",
    "    for i in range(len(avs_count)):\n",
    "        if avs_count[i] >= threshold : \n",
    "            labels[i] = 'malware'\n",
    "        elif ((avs_count1[i] > 0) and (avs_count[i] < 2)) :\n",
    "            labels[i] = 'unknown'\n",
    "    return labels\n",
    "\n",
    "threshold = 2\n",
    "avs_count = dataset['max_tavs']\n",
    "avs_count1 = dataset['max_avs']\n",
    "dataset['avs5'] = label_downloads(avs_count, avs_count1, threshold)\n",
    "\n",
    "dataset = dataset.loc[dataset['avs5'] != 'unknown']\n",
    "print (\"Number of remaining rows =\", len(dataset))\n",
    "\n",
    "print (\"Dataset: instances =\",dataset.shape[0], \"  features =\",dataset.shape[1])\n"
   ]
  },
  {
   "cell_type": "code",
   "execution_count": 46,
   "metadata": {},
   "outputs": [
    {
     "name": "stdout",
     "output_type": "stream",
     "text": [
      "Labels count: Counter({'benign': 90077, 'malware': 4549})\n",
      "Type count: Counter({'EXE': 36779, 'JAR': 31613, 'APK': 16069, 'DMG': 10165})\n"
     ]
    }
   ],
   "source": [
    "labels_count = Counter(list(dataset['avs5']))\n",
    "print (\"Labels count:\", labels_count)\n",
    "\n",
    "type_count = Counter(list(dataset['type']))\n",
    "print (\"Type count:\", type_count)"
   ]
  },
  {
   "cell_type": "code",
   "execution_count": 47,
   "metadata": {},
   "outputs": [
    {
     "name": "stdout",
     "output_type": "stream",
     "text": [
      "Dataset: instances = 94626   features = 88\n"
     ]
    }
   ],
   "source": [
    "# One-hot-encoding\n",
    "cfs = ['extension_class','type']\n",
    "for fn in cfs:\n",
    "    ohe_feat = pd.get_dummies(dataset[fn], prefix=fn)\n",
    "    dataset = dataset.drop([fn], axis=1)\n",
    "    dataset = pd.concat((dataset, ohe_feat), axis=1)\n",
    "\n",
    "print (\"Dataset: instances =\",dataset.shape[0], \"  features =\",dataset.shape[1])"
   ]
  },
  {
   "cell_type": "code",
   "execution_count": 50,
   "metadata": {},
   "outputs": [
    {
     "name": "stdout",
     "output_type": "stream",
     "text": [
      "Number of training data rows = 36379\n",
      "Number of test data rows = 58247\n",
      "Training labels count: Counter({'benign': 34373, 'malware': 2006})\n",
      "Test labels count: Counter({'benign': 55704, 'malware': 2543})\n"
     ]
    }
   ],
   "source": [
    "trainining_end_date = '2017-04-01'\n",
    "\n",
    "training_data = dataset[dataset['date']<trainining_end_date]\n",
    "test_data = dataset[dataset['date']>=trainining_end_date]\n",
    "\n",
    "print (\"Number of training data rows =\", len(training_data))\n",
    "print (\"Number of test data rows =\", len(test_data))\n",
    "\n",
    "labels_count = Counter(list(training_data['avs5']))\n",
    "print (\"Training labels count:\", labels_count)\n",
    "\n",
    "labels_count = Counter(list(test_data['avs5']))\n",
    "print (\"Test labels count:\", labels_count)"
   ]
  },
  {
   "cell_type": "code",
   "execution_count": 57,
   "metadata": {},
   "outputs": [
    {
     "name": "stdout",
     "output_type": "stream",
     "text": [
      "Train: instances = 36379   features = 69\n",
      "Test:  instances = 58247   features = 69\n"
     ]
    }
   ],
   "source": [
    "train = training_data.copy()\n",
    "test = test_data.copy()\n",
    "\n",
    "train_Y = list(train['avs5'])\n",
    "test_Y  = list(test['avs5'])\n",
    "\n",
    "remove_cols = ['hash_daily_dump_rate_per_client', 'url_struct_malware_downloads', 'url_struct_total_downloads', 'url_struct_distinct_sha1s', 'vt_month_shelf', 'score', 'raw_dump_trusted_av_labels', 'raw_dump_num_av_labels', 'dump_id','corrupt','sha1','host','url_struct','dump_id_d','date','md5','host_d','max_tavs','max_avs']\n",
    "\n",
    "for c in remove_cols:\n",
    "    del train[c]\n",
    "    del test[c]\n",
    "\n",
    "print (\"Train: instances =\",train.shape[0], \"  features =\",train.shape[1])\n",
    "print (\"Test:  instances =\",test.shape[0], \"  features =\",test.shape[1]) \n",
    "\n",
    "#train.fillna(-1,inplace=True)\n",
    "#test.fillna(-1,inplace=True)\n",
    "\n",
    "#test.to_csv(\"data/data/tmp_test.csv\")\n",
    "#train.to_csv(\"data/data/tmp_train.csv\")"
   ]
  },
  {
   "cell_type": "code",
   "execution_count": 58,
   "metadata": {},
   "outputs": [],
   "source": [
    "def compute_partial_auc(fpr, tpr, fpr_max):\n",
    "    partial_fpr = [fpr[i] for i in range(len(fpr)) if fpr[i] <= fpr_max]\n",
    "    partial_tpr = [tpr[i] for i in range(len(fpr)) if fpr[i] <= fpr_max]\n",
    "    partial_fpr = partial_fpr + [fpr_max]\n",
    "    partial_tpr = partial_tpr + [tpr[-1]]\n",
    "    partial_auc = (auc(partial_fpr, partial_tpr) / (fpr_max))\n",
    "    #print(partial_fpr)\n",
    "    return partial_auc"
   ]
  },
  {
   "cell_type": "code",
   "execution_count": 59,
   "metadata": {},
   "outputs": [],
   "source": [
    "# imputation of missing values by substituting -1 for compatibility with RF implementation\n",
    "def RF_2(train, test):\n",
    "    \n",
    "    #train.fillna(-1,inplace=True)\n",
    "    train.fillna(train.mean(),inplace=True)\n",
    "    clf = RandomForestClassifier(n_estimators=100,random_state=12345, min_impurity_decrease= 0.000000015)\n",
    "    clf.fit(train, train_Y)\n",
    "    #test.fillna(-1,inplace=True)\n",
    "    test.fillna(test.mean(),inplace=True)\n",
    "\n",
    "    Y_hat = clf.predict(test)\n",
    "    acc = accuracy_score(test_Y,Y_hat)\n",
    "    \n",
    "    #error = abs(Y_hat - test_Y)\n",
    "    #mape = 100 * (error/test_Y)\n",
    "    #accuracy = 100 - np.mean(mape)\n",
    "    print('Accuracy:', acc, '%.')\n",
    "    \n",
    "    scores = pd.DataFrame(clf.predict_proba(test))\n",
    "    scores.columns = ['benign','malware']\n",
    "    fpr, tpr, th = roc_curve(test_Y, scores['malware'], pos_label='malware')\n",
    "    return (fpr,tpr)\n",
    "    "
   ]
  },
  {
   "cell_type": "code",
   "execution_count": 60,
   "metadata": {},
   "outputs": [],
   "source": [
    "def plot_ROC(fpr, tpr, perc, fpr_max=0.01, title='ROC curves'):\n",
    "    plt.figure(num=None, figsize=(10, 7))\n",
    "    lw = 3\n",
    "\n",
    "    plt.plot([0, 100], [100, 100], color='lightgray', lw=1, linestyle='--')\n",
    "    plt.plot([0, 100], [90, 90], color='lightgray', lw=1, linestyle='--')\n",
    "    plt.plot([0, 100], [80, 80], color='lightgray', lw=1, linestyle='--')\n",
    "    plt.plot([1.0, 1.0], [50, 105], color='lightgray', lw=1, linestyle='--')\n",
    "    plt.plot([0.5, 0.5], [50, 105], color='lightgray', lw=1, linestyle='--')\n",
    "    plt.plot([0.2, 0.2], [50, 105], color='lightgray', lw=1, linestyle='--')\n",
    "    plt.plot([0.1, 0.1], [50, 105], color='lightgray', lw=1, linestyle='--')\n",
    "    \n",
    "    pauc = compute_partial_auc(fpr1, tpr1, fpr_max)\n",
    "    plt.plot(fpr*100, tpr*100, color= 'blue', lw=lw, label='Perc = %s, PAUC = %.4f' % (perc, pauc))\n",
    "\n",
    "    plt.xlim([0.0, fpr_max*100])\n",
    "    plt.ylim([50, 105])\n",
    "    plt.xlabel('False Positive (%)')\n",
    "    plt.ylabel('True Positives (%)')\n",
    "    plt.title(title)\n",
    "    plt.legend(loc=\"lower right\")\n",
    "    plt.savefig('data/missing_values/percentage_missing '+ str(perc) +'.pdf')\n",
    "\n",
    "    plt.show()\n",
    "   \n",
    "    \n",
    "    \n",
    "#plot_ROC(fpr,tpr)"
   ]
  },
  {
   "cell_type": "code",
   "execution_count": 61,
   "metadata": {},
   "outputs": [
    {
     "data": {
      "text/plain": [
       "Index(['host_malware_downloads', 'host_suspicious_downloads',\n",
       "       'host_benign_downloads', 'host_total_downloads', 'host_malware_ratio',\n",
       "       'host_suspicious_ratio', 'host_benign_ratio', 'host_avg_av_labels',\n",
       "       'host_avg_trusted_labels', 'host_unknown_hashes', 'host_total_hashes',\n",
       "       'host_unknown_hash_ratio', 'twold_malware_downloads',\n",
       "       'twold_suspicious_downloads', 'twold_benign_downloads',\n",
       "       'twold_total_downloads', 'twold_malware_ratio',\n",
       "       'twold_suspicious_ratio', 'twold_benign_ratio', 'twold_avg_av_labels',\n",
       "       'twold_avg_trusted_labels', 'twold_unknown_hashes',\n",
       "       'twold_total_hashes', 'twold_unknown_hash_ratio',\n",
       "       'server_ip_malware_downloads', 'server_ip_suspicious_downloads',\n",
       "       'server_ip_benign_downloads', 'server_ip_total_downloads',\n",
       "       'server_ip_malware_ratio', 'server_ip_suspicious_ratio',\n",
       "       'server_ip_benign_ratio', 'server_ip_avg_av_labels',\n",
       "       'server_ip_avg_trusted_labels', 'server_ip_unknown_hashes',\n",
       "       'server_ip_total_hashes', 'server_ip_unknown_hash_ratio',\n",
       "       'bgp_malware_ratio', 'bgp_suspicious_ratio', 'bgp_benign_ratio',\n",
       "       'bgp_avg_av_labels', 'bgp_avg_trusted_labels',\n",
       "       'bgp_unknown_hash_ratio'],\n",
       "      dtype='object')"
      ]
     },
     "execution_count": 61,
     "metadata": {},
     "output_type": "execute_result"
    }
   ],
   "source": [
    "temp_cols = list()\n",
    "\n",
    "tmp_train = train.copy()\n",
    "tmp_test = test.copy()\n",
    "\n",
    "temp_cols = (train.columns[train.isnull().mean() > 0])\n",
    "temp_cols"
   ]
  },
  {
   "cell_type": "code",
   "execution_count": 63,
   "metadata": {},
   "outputs": [],
   "source": [
    "#count = 0\n",
    "#def cate_isnull (a, b):\n",
    "#    print(a, ' ', b)\n",
    "#    if a is None & b == 'benign':\n",
    "#        return -1\n",
    "#    elif a is None & b =='malware':\n",
    "#        return -2\n",
    "    \n",
    "    #else:\n",
    "        #print(row['avs5'])\n",
    "        #return float(0.0)\n",
    "    \n",
    "def column_isnull (row, c):\n",
    "    if pd.isna(row[c]) == True:\n",
    "        if row['avs5'] == 'benign':\n",
    "            return float(-1.0)\n",
    "        elif row['avs5'] == 'malware':\n",
    "            return float(-2.0)\n",
    "\n",
    "\n",
    "#tmp_train['categorical_isnull_server_ip_malware_ratio'] = np.where(tmp_train['server_ip_malware_ratio'].isnull(), 1.0, 0.0)\n",
    "\n",
    "for c in temp_cols:\n",
    "    #print (tmp_test.apply(lambda row: cate_isnull (row,c), axis=1))\n",
    "    #tmp_test['categorical_isnull_%s' %c] = tmp_test.apply(lambda row: cate_isnull (row,c), axis=1)\n",
    "    #tmp_train['categorical_isnull_%s' %c] = tmp_train.apply(lambda row: cate_isnull (row[c]), axis=1)\n",
    "    #tmp_train[c] = tmp_train.apply(lambda row: column_isnull (row,c), axis=1)\n",
    "    #print (tmp_train.apply(lambda row: cate_isnull (row[c]), axis=1))\n",
    "    tmp_train['categorical_isnull_%s' %c] = np.where(tmp_train[c].isnull(), 1.0, 0.0)\n",
    "    tmp_test['categorical_isnull_%s' %c] = np.where(tmp_test[c].isnull(), 1.0, 0.0)\n",
    "    \n",
    "d = 'avs5'   \n",
    "\n",
    "#for c in temp_cols:\n",
    "#    tmp_train[c] = np.where(((tmp_train[c].isnull()) & (tmp_train.avs5 == 'malware')), tmp_train[c].fillna(-1), inplace=True), tmp_train[c])\n",
    "#    tmp_train[c] = np.where(((tmp_train[c].isnull()) & (tmp_train.avs5 == 'benign')), tmp_train[c].fillna(-1), inplace=True), tmp_train[c])\n",
    "    \n",
    "#for c in temp_cols:\n",
    "#    del tmp_test[c]\n",
    "#    del tmp_train[c]\n",
    "\n",
    "tmp_train.fillna(-1,inplace=True)\n",
    "tmp_test.fillna(-1,inplace=True)\n",
    "\n",
    "tmp_test.to_csv(\"data/data/tmp_test.csv\")\n",
    "tmp_train.to_csv(\"data/data/tmp_train.csv\")"
   ]
  },
  {
   "cell_type": "code",
   "execution_count": 33,
   "metadata": {},
   "outputs": [
    {
     "name": "stdout",
     "output_type": "stream",
     "text": [
      "Accuracy: 0.9959482891822755 %.\n"
     ]
    }
   ],
   "source": [
    "x = 1.0\n",
    "\n",
    "del tmp_train['avs5']\n",
    "del tmp_test['avs5']\n",
    "\n",
    "fpr1, tpr1 = RF_2(tmp_train, tmp_test)\n",
    "    \n",
    "plot_ROC(fpr1, tpr1, x)"
   ]
  }
 ],
 "metadata": {
  "kernelspec": {
   "display_name": "Python 3",
   "language": "python",
   "name": "python3"
  },
  "language_info": {
   "codemirror_mode": {
    "name": "ipython",
    "version": 3
   },
   "file_extension": ".py",
   "mimetype": "text/x-python",
   "name": "python",
   "nbconvert_exporter": "python",
   "pygments_lexer": "ipython3",
   "version": "3.7.0"
  }
 },
 "nbformat": 4,
 "nbformat_minor": 2
}
