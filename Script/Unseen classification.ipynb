{
 "cells": [
  {
   "cell_type": "code",
   "execution_count": 1,
   "metadata": {},
   "outputs": [
    {
     "data": {
      "text/plain": [
       "dump_id              int64\n",
       "date        datetime64[ns]\n",
       "md5                 object\n",
       "host                object\n",
       "server              object\n",
       "type                object\n",
       "max_tavs           float64\n",
       "max_avs            float64\n",
       "score              float64\n",
       "vt_query    datetime64[ns]\n",
       "dtype: object"
      ]
     },
     "execution_count": 1,
     "metadata": {},
     "output_type": "execute_result"
    }
   ],
   "source": [
    "import pandas as pd\n",
    "import pandasql as pdsql\n",
    "from datetime import datetime\n",
    "import matplotlib\n",
    "import matplotlib.pyplot as plt\n",
    "\n",
    "pysql = lambda q: pdsql.sqldf(q, globals())\n",
    "\n",
    "data = pd.read_csv('data/amico-export.csv.gz', compression='gzip')\n",
    "\n",
    "data['date'] = pd.to_datetime(data['date'])\n",
    "data['vt_query'] = pd.to_datetime(data['vt_query'])\n",
    "data.sort_values(by=['dump_id'],inplace=True)\n",
    "data.dtypes"
   ]
  },
  {
   "cell_type": "code",
   "execution_count": 2,
   "metadata": {},
   "outputs": [],
   "source": [
    "types = ['md5','host','server']\n",
    "file_type = ['APK','EXE','DMG','JAR']\n",
    "data1 = data.copy()"
   ]
  },
  {
   "cell_type": "code",
   "execution_count": 3,
   "metadata": {},
   "outputs": [],
   "source": [
    "\n",
    "def unseen_values(x,data1):\n",
    "\n",
    "    Unseen_total = 0\n",
    "    Unseen_malware = 0\n",
    "    Unseen_benign = 0\n",
    "\n",
    "    temp_feature_values_seen = list()\n",
    "    temp_feature_values_duplicate = list()\n",
    "    temp_dumpid = list()\n",
    "\n",
    "    for index, row in data1.iterrows():\n",
    "        #print (\"Index = \", index)\n",
    "        #print (\"Row = \", row['host'])\n",
    "        if row[x] not in temp_feature_values_seen:\n",
    "            temp_feature_values_seen.append(row[x])\n",
    "            temp_dumpid.append(row['dump_id'])\n",
    "            if row['max_tavs'] >= 2:\n",
    "                Unseen_malware += 1\n",
    "                Unseen_total += 1\n",
    "            elif ((row['max_tavs'] < 2) and (row['max_avs'] > 0)):\n",
    "                Unseen_total += 1\n",
    "            elif (row['max_avs'] == 0):\n",
    "                Unseen_benign += 1\n",
    "                Unseen_total += 1\n",
    "            elif row['max_avs'] is None:\n",
    "                Unseen_total += 1\n",
    "        else:\n",
    "            temp_feature_values_duplicate.append(row[x])\n",
    "    \n",
    "    print(\"\\n Type %s\" %x)\n",
    "    print(\" Unseen total\", Unseen_total)\n",
    "    print(\" Unseen malware\", Unseen_malware)\n",
    "    print(\" Unseen benign\", Unseen_benign)\n",
    "    #print(\"Temp features values\", temp_feature_values_seen)\n",
    "    #print(\"Tmep unseen dumpid\", temp_dumpid)\n",
    "    #print(\"Temp features duplicate values\", temp_feature_values_duplicate)"
   ]
  },
  {
   "cell_type": "code",
   "execution_count": 4,
   "metadata": {},
   "outputs": [
    {
     "name": "stdout",
     "output_type": "stream",
     "text": [
      "\n",
      " Type md5\n",
      " Unseen total 9870\n",
      " Unseen malware 563\n",
      " Unseen benign 7904\n",
      "\n",
      " Type host\n",
      " Unseen total 1547\n",
      " Unseen malware 215\n",
      " Unseen benign 885\n",
      "\n",
      " Type server\n",
      " Unseen total 4913\n",
      " Unseen malware 331\n",
      " Unseen benign 3308\n"
     ]
    }
   ],
   "source": [
    "for x in types:\n",
    "    unseen_values(x,data1)"
   ]
  },
  {
   "cell_type": "code",
   "execution_count": 5,
   "metadata": {},
   "outputs": [],
   "source": [
    "\n",
    "def Unseen_values_type(y):\n",
    "    \n",
    "    sql_query = \"\"\"SELECT * FROM data WHERE type = '%s';\"\"\" %y\n",
    "\n",
    "    data1 = pysql(sql_query)\n",
    "    \n",
    "    #print(data1)\n",
    "    \n",
    "    print(\"\\n File Type %s\" %y, \"\\n\")\n",
    "    \n",
    "    for x in types:\n",
    "        unseen_values(x,data1)"
   ]
  },
  {
   "cell_type": "code",
   "execution_count": 6,
   "metadata": {},
   "outputs": [
    {
     "name": "stdout",
     "output_type": "stream",
     "text": [
      "\n",
      " File Type APK \n",
      "\n",
      "\n",
      " Type md5\n",
      " Unseen total 529\n",
      " Unseen malware 23\n",
      " Unseen benign 394\n",
      "\n",
      " Type host\n",
      " Unseen total 141\n",
      " Unseen malware 23\n",
      " Unseen benign 81\n",
      "\n",
      " Type server\n",
      " Unseen total 528\n",
      " Unseen malware 12\n",
      " Unseen benign 379\n",
      "\n",
      " File Type EXE \n",
      "\n",
      "\n",
      " Type md5\n",
      " Unseen total 4876\n",
      " Unseen malware 231\n",
      " Unseen benign 3446\n",
      "\n",
      " Type host\n",
      " Unseen total 1000\n",
      " Unseen malware 93\n",
      " Unseen benign 504\n",
      "\n",
      " Type server\n",
      " Unseen total 3371\n",
      " Unseen malware 128\n",
      " Unseen benign 2045\n",
      "\n",
      " File Type DMG \n",
      "\n",
      "\n",
      " Type md5\n",
      " Unseen total 475\n",
      " Unseen malware 305\n",
      " Unseen benign 152\n",
      "\n",
      " Type host\n",
      " Unseen total 197\n",
      " Unseen malware 99\n",
      " Unseen benign 94\n",
      "\n",
      " Type server\n",
      " Unseen total 456\n",
      " Unseen malware 241\n",
      " Unseen benign 209\n",
      "\n",
      " File Type JAR \n",
      "\n",
      "\n",
      " Type md5\n",
      " Unseen total 3990\n",
      " Unseen malware 4\n",
      " Unseen benign 3912\n",
      "\n",
      " Type host\n",
      " Unseen total 268\n",
      " Unseen malware 3\n",
      " Unseen benign 252\n",
      "\n",
      " Type server\n",
      " Unseen total 1073\n",
      " Unseen malware 3\n",
      " Unseen benign 1052\n"
     ]
    }
   ],
   "source": [
    "for y in file_type:\n",
    "    Unseen_values_type(y)"
   ]
  }
 ],
 "metadata": {
  "kernelspec": {
   "display_name": "Python 3",
   "language": "python",
   "name": "python3"
  },
  "language_info": {
   "codemirror_mode": {
    "name": "ipython",
    "version": 3
   },
   "file_extension": ".py",
   "mimetype": "text/x-python",
   "name": "python",
   "nbconvert_exporter": "python",
   "pygments_lexer": "ipython3",
   "version": "3.5.2"
  }
 },
 "nbformat": 4,
 "nbformat_minor": 2
}
